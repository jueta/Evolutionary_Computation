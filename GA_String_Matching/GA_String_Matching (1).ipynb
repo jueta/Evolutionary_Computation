{
 "cells": [
  {
   "cell_type": "markdown",
   "id": "7e3b493a",
   "metadata": {},
   "source": [
    "#  Aluno: Joao Pedro Miranda Marques\n",
    "#  Matricula 2017050495\n",
    "#  UFMG\n",
    "\n",
    "#  Strings Matching Problem\n",
    "#  Genetic Algorithm "
   ]
  },
  {
   "cell_type": "markdown",
   "id": "11779df8",
   "metadata": {},
   "source": []
  },
  {
   "cell_type": "code",
   "execution_count": 1,
   "id": "ee4b6207",
   "metadata": {},
   "outputs": [],
   "source": [
    "\n",
    "#Bibliotecas\n",
    "\n",
    "import random as rd\n",
    "import numpy as np\n",
    "import matplotlib.pyplot"
   ]
  },
  {
   "cell_type": "code",
   "execution_count": 2,
   "id": "8556bf70",
   "metadata": {},
   "outputs": [],
   "source": [
    "#initializing\n",
    "# def geneticAlgorithm(charOptions,objective, objectiveSize, numbSubjects, crossover_rate, mutation_rate):\n",
    "charOptions = 'ABCDEFGHIJKLMNOPQRSTUVWXYZ*'\n",
    "objective = 'METHINKS*IT*IS*LIKE*A*WEASEL'\n",
    "objectiveSize = 28\n",
    "numbSubjects = 10 # quantidade de individuos na populacao\n",
    "crossover_rate = 0.6\n",
    "mutation_rate = 0.2"
   ]
  },
  {
   "cell_type": "code",
   "execution_count": 3,
   "id": "72fd446c",
   "metadata": {},
   "outputs": [
    {
     "name": "stdout",
     "output_type": "stream",
     "text": [
      "Populacao\n",
      "['N*MEYRTKRIOCQFGUYOJINSRPLFBV', 'TKZMPNLVFLPQTELHCBJ*BMYMZEHR', 'EQDHNGDATAYSG*HDHYLLYYSWETPZ', 'AYTLNFBAYHPUMASADYLBGBSAQICX', 'SUQZAMMTCXCBCKWIDEATLUBOQPJQ', 'X*F*ZTIFQIITQ*UCQCJTVHOASWJS', 'R*JUPABNUHLOAJUFIENBDEPQFMHT', 'DOGVMBSULDJLXRKVWENFNTFGUCUB', 'EZHN*CQWBWSMKFODJ*OCVYOHJWAP', '*TQEBRZOCTLNSQLCAGPKFWDPQKVK']\n"
     ]
    }
   ],
   "source": [
    "#Inicializando populacao\n",
    "\n",
    " #inicializa individuo (subject)\n",
    "def init_subject(objectiveSize, charOptions):\n",
    "    \n",
    "    subject = ''\n",
    "    \n",
    "    for i in range (objectiveSize):\n",
    "        subject += rd.choice(charOptions)\n",
    "        \n",
    "    return subject\n",
    "\n",
    "# subj = init_subject(objectiveSize, charOptions)\n",
    "# print('Individuo')\n",
    "# print(subj)\n",
    "\n",
    " #inicializa populacao (population)\n",
    "def init_population(numbSubjects):\n",
    "    \n",
    "    population = []\n",
    "    \n",
    "    for i in range (0, numbSubjects):\n",
    "        population.append(init_subject(objectiveSize, charOptions))\n",
    "        \n",
    "    return population\n",
    "\n",
    "pop = init_population(numbSubjects)\n",
    "print('Populacao')\n",
    "print(pop)\n"
   ]
  },
  {
   "cell_type": "code",
   "execution_count": 4,
   "id": "ed620f87",
   "metadata": {},
   "outputs": [
    {
     "name": "stdout",
     "output_type": "stream",
     "text": [
      "All fitness\n",
      "[1, 2, 1, 1, 0, 1, 1, 0, 0, 0]\n"
     ]
    }
   ],
   "source": [
    "\n",
    "def fitness_calc(objective, subject, objectiveSize):\n",
    "    \n",
    "    match = 0\n",
    "\n",
    "    for i in range(objectiveSize):\n",
    "        if subject[i] == objective[i]:\n",
    "            match = match + 1\n",
    "            \n",
    "    return match\n",
    "\n",
    "\n",
    "#returns array of all fitness\n",
    "def evaluation(pop, numbSubjects):\n",
    "    \n",
    "    fitnessVector = []\n",
    "    \n",
    "    for i in range(0, numbSubjects):\n",
    "        fitnessVector.append(fitness_calc(objective, pop[i], objectiveSize))\n",
    "\n",
    "    return  fitnessVector\n",
    "\n",
    "\n",
    "\n",
    "\n",
    "fitnessVector = evaluation(pop, numbSubjects)\n",
    "print('All fitness')\n",
    "print(fitnessVector)\n",
    "\n",
    "def objective_acomplish(fitnessVector, numbSubjects, objectiveSize):\n",
    "    \n",
    "    objectiveDone = 0\n",
    "    vector = np.array(fitnessVector)\n",
    "    \n",
    "    for i in range (0, numbSubjects):\n",
    "        if vector[i] == objectiveSize:\n",
    "            objectiveDone = 1\n",
    "            \n",
    "    return  objectiveDone\n",
    "\n",
    "\n",
    "# teste = objective_acomplish(fitnessVector, numbSubjects, objectiveSize)\n",
    "# print('objDone?')\n",
    "# print(teste)"
   ]
  },
  {
   "cell_type": "code",
   "execution_count": 5,
   "id": "397f2f7c",
   "metadata": {},
   "outputs": [
    {
     "name": "stdout",
     "output_type": "stream",
     "text": [
      "Pais\n",
      "['TKZMPNLVFLPQTELHCBJ*BMYMZEHR', 'N*MEYRTKRIOCQFGUYOJINSRPLFBV']\n"
     ]
    }
   ],
   "source": [
    "\n",
    "#return two best fitness of fitnessVector\n",
    "def get_two_best_fitness(fitnessVector):\n",
    "    \n",
    "    index1 = 0\n",
    "    index2 = 0\n",
    "    actualbest1 = 0\n",
    "    aux = fitnessVector.copy()\n",
    "    actualbest2 = 0\n",
    "    \n",
    "   \n",
    "    \n",
    "    for i in fitnessVector:\n",
    "        if i >= actualbest1:\n",
    "            actualbest1 = i\n",
    "            index1 = fitnessVector.index(actualbest1)\n",
    "            \n",
    "    aux.pop(index1)\n",
    "            \n",
    "    for j in aux:\n",
    "        if j >= actualbest2:\n",
    "            actualbest2 = j\n",
    "            index2 = aux.index(actualbest2)\n",
    "\n",
    "    if index2 >= index1:\n",
    "        index2 += 1\n",
    "            \n",
    "#     print('fitnessVector :')\n",
    "#     print(fitnessVector)\n",
    "            \n",
    "    return index1, index2\n",
    "\n",
    "\n",
    "\n",
    "def selection(pop, ind1, ind2):\n",
    "#retorna dentre 5 solucoes aleatorias as duas melhores.\n",
    "    _aux = 5\n",
    "    aleatorios = []\n",
    "\n",
    "    for i in range (_aux):\n",
    "        aleatorios.append(rd.choice(pop))\n",
    "    \n",
    "#     print('index1, index2')\n",
    "#     print(ind1, ind2)\n",
    "    \n",
    "    parents = [pop[ind1], pop[ind2]]\n",
    "    \n",
    "#     print('aleatorios')\n",
    "#     print(aleatorios)\n",
    "\n",
    "    return parents\n",
    "\n",
    "\n",
    "\n",
    "# two_besterr = get_two_best_fitness(fitnessVector)\n",
    "# print('primeira func')\n",
    "# print(two_besterr)\n",
    "ind1, ind2 = get_two_best_fitness(fitnessVector)\n",
    "subset_parents = selection(pop, ind1, ind2)\n",
    "print('Pais')\n",
    "print(subset_parents)\n"
   ]
  },
  {
   "cell_type": "code",
   "execution_count": 6,
   "id": "1954391c",
   "metadata": {},
   "outputs": [
    {
     "name": "stdout",
     "output_type": "stream",
     "text": [
      "('T*MEYRTKRIOCQFGUYOJINSRPLFBV', 'NKZMPNLVFLPQTELHCBJ*BMYMZEHR')\n"
     ]
    }
   ],
   "source": [
    "#retorna um subset (dois individuos) como resultado do possivel cruzamento dos pais.\n",
    "def crossover(subset_parents, crossover_rate):\n",
    "\n",
    "    lista1 = subset_parents[0]\n",
    "    lista2 = subset_parents[1]\n",
    "\n",
    "    resp1 = []\n",
    "    resp2 = []\n",
    "    \n",
    "   # Crossover com 1 Ponto de Corte aleatorio\n",
    "   # so acontece se um valor aleatorio entre 1 e 0 for menor que o crossover_rate\n",
    "    \n",
    "    #crossover do primeiro par de pais\n",
    "    prob = rd.uniform(0, 1)\n",
    "    \n",
    "    if prob < crossover_rate:\n",
    "        cut = rd.randint(1, objectiveSize)\n",
    "\n",
    "        resp1 = lista1[0:cut] + lista2[cut:objectiveSize]\n",
    "        resp2 = lista2[0:cut] + lista1[cut:objectiveSize]\n",
    "        \n",
    "    else:\n",
    "        resp1 = lista1\n",
    "        resp2 = lista2\n",
    "\n",
    "        \n",
    "    offspring = (resp1, resp2)\n",
    "\n",
    "    return offspring\n",
    "\n",
    "\n",
    "offspring = crossover(subset_parents, crossover_rate)\n",
    "print(offspring)"
   ]
  },
  {
   "cell_type": "code",
   "execution_count": 11,
   "id": "1dd450e0",
   "metadata": {},
   "outputs": [
    {
     "name": "stdout",
     "output_type": "stream",
     "text": [
      "('T*UZYROSRIGTQFGUYOJINSRPLNBV', 'NKZMPNLIFLPQTELZCBC*BMYMZEHR')\n"
     ]
    }
   ],
   "source": [
    "def mutation(offspring, mutation_rate, charOptions):\n",
    "#retorna um subset (dois individuos) como resultado da mutacao dos filhos\n",
    "\n",
    "    probRate = mutation_rate\n",
    "    \n",
    "    \n",
    "    child1 = ''\n",
    "    for j in range(len(offspring[0])):\n",
    "        prob = rd.uniform(0, 1)\n",
    "        if prob < mutation_rate:\n",
    "            index = round(rd.randint(1, len(charOptions) - 1))\n",
    "            child1 += charOptions[index]\n",
    "        else:\n",
    "            child1 += offspring[0][j]\n",
    "            \n",
    "    child2 = ''\n",
    "    for j in range(len(offspring[1])):\n",
    "        prob = rd.uniform(0, 1)\n",
    "        if prob < mutation_rate:\n",
    "            index = round(rd.randint(1, len(charOptions) - 1))\n",
    "            child2 += charOptions[index]\n",
    "        else:\n",
    "            child2 += offspring[1][j]\n",
    "    \n",
    "#     print(child2)\n",
    "\n",
    "    offspring_new = (child1, child2)\n",
    "    \n",
    "    return offspring_new\n",
    "\n",
    "offspring_new = mutation(offspring,mutation_rate, charOptions)\n",
    "print(offspring_new)"
   ]
  },
  {
   "cell_type": "code",
   "execution_count": 8,
   "id": "4bef701c",
   "metadata": {},
   "outputs": [
    {
     "name": "stdout",
     "output_type": "stream",
     "text": [
      "['EQDHNGDATAYSG*HDHYLLYYSWETPZ', 'N*MEYRTKRIOCQFGUYOJINSRPLFBV', 'GKZMPNLVOLDUW*LHCBJ*BUYMZEUY', 'EZHN*CQWBWSMKFODJ*OCVYOHJWAP', 'N*MEYXTJRIOCJDMUYOLINSRPLFBY', 'SUQZAMMTCXCBCKWIDEATLUBOQPJQ', 'R*JUPABNUHLOAJUFIENBDEPQFMHT', '*TQEBRZOCTLNSQLCAGPKFWDPQKVK', 'X*F*ZTIFQIITQ*UCQCJTVHOASWJS', 'TKZMPNLVFLPQTELHCBJ*BMYMZEHR']\n"
     ]
    }
   ],
   "source": [
    "def replacement(offspring_new, pop, fitnessVector, ind1, ind2):\n",
    "    \n",
    "    index1 = ind1\n",
    "    index2 = ind2\n",
    "    \n",
    "    while index1 == ind1 or index1 == ind2:\n",
    "        index1= rd.randint(0,len(pop) - 1)\n",
    "    while index2 == ind1 or index2 == ind2:\n",
    "        index2= rd.randint(0,len(pop) - 1)\n",
    "\n",
    "    pop[index1] = offspring_new[0]\n",
    "    pop[index2] = offspring_new[1]\n",
    "    \n",
    "    rd.shuffle(pop)\n",
    "    \n",
    "    return pop\n",
    "\n",
    "pop = replacement(offspring_new, pop, fitnessVector, ind1, ind2)\n",
    "print(pop)"
   ]
  },
  {
   "cell_type": "code",
   "execution_count": 15,
   "id": "7fbe0e97",
   "metadata": {},
   "outputs": [],
   "source": [
    "# loop principal do algoritmo evolutivo\n",
    "\n",
    "def geneticAlgorithm(charOptions,objective, objectiveSize, numbSubjects, crossover_rate, mutation_rate):\n",
    "    \n",
    "    pop = init_population(numbSubjects)\n",
    "    fitnessVector = evaluation(pop, numbSubjects)\n",
    "    \n",
    "    i_geracoes = 0\n",
    "    medias = []\n",
    "    objectiveDone = 0\n",
    "\n",
    "    print(\"first population:\")\n",
    "    print (pop)\n",
    "    print(\"first evaluation:\")\n",
    "    print(fitnessVector)\n",
    "\n",
    "\n",
    "    while objectiveDone == 0 and i_geracoes < 20000:\n",
    "        \n",
    "        fitnessVector = evaluation(pop, numbSubjects) #fez uma nova avaliacao\n",
    "        #print(\"novo evaluation\")\n",
    "        #print(fitnessVector)\n",
    "        \n",
    "        ind1, ind2 = get_two_best_fitness(fitnessVector)\n",
    "        #print(\"Melhor Resultado: \")\n",
    "        #print(pop[ind1])\n",
    "        \n",
    "        subset_parents = selection(pop, ind1, ind2) #selecao dos individuos mais aptos para o cruzamento\n",
    "        #print(\"Pais\")\n",
    "        #print(subset_parents)\n",
    "        \n",
    "        offspring = crossover(subset_parents, crossover_rate) #cruzamento dos pais\n",
    "        #print(\"cruzamento deles crossover\")\n",
    "        #print(offspring)\n",
    "        \n",
    "        offspring_new = mutation(offspring,mutation_rate, charOptions) #mutacao\n",
    "        #print(\"mutacao\")\n",
    "        #print(offspring_new)\n",
    "\n",
    "        pop =replacement(offspring_new, pop, fitnessVector, ind1, ind2) #atualizacao da populacao\n",
    "        #print(\"nova populacao\")\n",
    "        #print(pop)\n",
    "        \n",
    "        objectiveDone = objective_acomplish(fitnessVector, numbSubjects, objectiveSize)\n",
    "        i_geracoes += 1\n",
    "\n",
    "        medias.append(sum(fitnessVector)/numbSubjects)\n",
    "        \n",
    "    \n",
    "    print(\"final population:\")\n",
    "    print(pop)\n",
    "    print(\"final evaluation: \")\n",
    "    print(fitnessVector)\n",
    "    print(\"interacoes: \")\n",
    "    print(i_geracoes)\n",
    "\n",
    "    matplotlib.pyplot.xlabel('Geracoes')\n",
    "    matplotlib.pyplot.ylabel('Media de fitness')\n",
    "    matplotlib.pyplot.plot(medias)\n",
    "    \n",
    "    return pop"
   ]
  },
  {
   "cell_type": "markdown",
   "id": "17280edc",
   "metadata": {},
   "source": [
    "Vemos que o algoritmo nao alcanca o maximo global, ou seja, nao consegue se igualar ao objetivo em menos de 10k interacoes. Isso se deve a grande diversidade no algoritmo, devido a sua mutacao ser brusca. \n",
    "O fato da mutacao ser brusca faz chegar rapidamente proximo do valor objetivo, porem, dificilmente com erro zero."
   ]
  },
  {
   "cell_type": "code",
   "execution_count": 16,
   "id": "da72e0ef",
   "metadata": {},
   "outputs": [
    {
     "name": "stdout",
     "output_type": "stream",
     "text": [
      "first population:\n",
      "['KYYYQLQAGCCWOVYFRG*ZLJFKAZHL', 'FVLCBBJQNMA*SSKPGUWALWKGXKMJ', 'SPNOXUIVXETYGBNXXADSXNBOKE*X', 'JBQGGBJZSMOHOVDX*VFPCLERBUKD', 'TIVHCPZ*ECXMSMPCPTAMEEORT*OF', 'EF*VRUULU*WSBKVXJNPEGLTPWZWH', 'GWOZMJRVWBJMORJAWOSQIXEZMLUU', 'XCX*KVDAZPDFMNSVNMUPBVCZENOL', 'UIHKYTJVZBWWQP*UQGIEENORAUPL', 'WOKFZNHZNWGUTMUWS*HMOKMNRNTI']\n",
      "first evaluation:\n",
      "[2, 2, 1, 0, 1, 0, 0, 1, 3, 1]\n",
      "final population:\n",
      "['METHINKS*IT*IS*LIFE*M*WEYSEL', 'MVTFINKK*IT*XS*DIFENG*WZYSPW', 'METHINKS*IT*IS*LIFE*M*WELSEL', 'METHBNKS*IT*ISILIFE*M*WSYSEO', 'METHINKSWIT*IS*LIFE*M*WELSIH', 'METSIFKSLIT*US*XIFE*C*WELWEQ', 'METHINKS*IN*IS*LIFE*M*WEQSEL', 'MRTHINKSIIT*IS*JIFE*M*WXLSEL', 'HETHINKSNZT*HI*EIFESB*OEYSEL', 'METHINUS*IS*FS*LIFE*M*WELEEL']\n",
      "final evaluation: \n",
      "[19, 18, 21, 22, 25, 25, 21, 17, 21, 24]\n",
      "interacoes: \n",
      "20000\n"
     ]
    },
    {
     "data": {
      "image/png": "[encoded data removed]",
      "text/plain": [
       "<Figure size 432x288 with 1 Axes>"
      ]
     },
     "metadata": {
      "needs_background": "light"
     },
     "output_type": "display_data"
    }
   ],
   "source": [
    "medias = geneticAlgorithm(charOptions,objective, objectiveSize, numbSubjects, crossover_rate, mutation_rate)"
   ]
  },
  {
   "cell_type": "code",
   "execution_count": null,
   "id": "de9542b6",
   "metadata": {},
   "outputs": [],
   "source": []
  },
  {
   "cell_type": "code",
   "execution_count": null,
   "id": "d654b2d9",
   "metadata": {},
   "outputs": [],
   "source": []
  }
 ],
 "metadata": {
  "kernelspec": {
   "display_name": "Python 3",
   "language": "python",
   "name": "python3"
  },
  "language_info": {
   "codemirror_mode": {
    "name": "ipython",
    "version": 3
   },
   "file_extension": ".py",
   "mimetype": "text/x-python",
   "name": "python",
   "nbconvert_exporter": "python",
   "pygments_lexer": "ipython3",
   "version": "3.8.8"
  }
 },
 "nbformat": 4,
 "nbformat_minor": 5
}
