{
 "cells": [
  {
   "cell_type": "code",
   "execution_count": 228,
   "metadata": {},
   "outputs": [],
   "source": [
    "#  Aluno: Joao Pedro Miranda Marques\n",
    "#  Matricula 2017050495\n",
    "#  UFMG\n",
    "#\n",
    "#  Problema das n rainhas em tabuleiro nxn\n",
    "#  Solucao utilizando algoritmo evolutivo\n",
    "\n",
    "\n",
    "\n",
    "#Bibliotecas\n",
    "\n",
    "import random as rd\n",
    "import numpy as np\n",
    "import matplotlib.pyplot"
   ]
  },
  {
   "cell_type": "code",
   "execution_count": 211,
   "metadata": {},
   "outputs": [
    {
     "name": "stdout",
     "output_type": "stream",
     "text": [
      "[[7, 5, 3, 6, 1, 4, 0, 2], [1, 2, 5, 7, 6, 4, 3, 0], [0, 3, 7, 6, 2, 1, 5, 4], [4, 1, 0, 5, 3, 2, 7, 6], [3, 7, 5, 6, 0, 2, 4, 1], [6, 5, 2, 0, 7, 3, 4, 1], [6, 2, 3, 4, 0, 7, 5, 1], [7, 0, 2, 5, 1, 6, 4, 3], [4, 0, 7, 3, 6, 5, 1, 2], [0, 3, 6, 5, 2, 7, 4, 1], [3, 0, 7, 4, 2, 1, 5, 6], [0, 3, 7, 4, 2, 6, 5, 1], [4, 6, 3, 7, 1, 2, 5, 0], [4, 7, 0, 1, 5, 2, 3, 6], [2, 7, 5, 4, 6, 0, 3, 1], [5, 7, 3, 4, 1, 0, 6, 2], [1, 6, 0, 5, 4, 3, 2, 7], [3, 2, 1, 6, 7, 0, 5, 4], [6, 4, 2, 7, 1, 5, 0, 3], [0, 1, 4, 7, 3, 6, 5, 2]]\n"
     ]
    }
   ],
   "source": [
    "#Inicializando populacao\n",
    "\n",
    "crossover_rate = 1\n",
    "mutation_rate = 0.8 \n",
    "\n",
    "def init_population(_mu:int = 20, n:int = 8):\n",
    "    population = []\n",
    "    for i in range (_mu):\n",
    "        population.append(rd.sample(range(n), n))\n",
    "    return population\n",
    "\n",
    "#pop = init_population(20, 8)\n",
    "print(pop)\n"
   ]
  },
  {
   "cell_type": "code",
   "execution_count": 212,
   "metadata": {},
   "outputs": [],
   "source": [
    "#Funcao Objetivo\n",
    "\n",
    "def fitness_nq(solution):\n",
    "    xeques = 0\n",
    "    for i in range(0,len(solution)):\n",
    "        for j in range(0,len(solution)):\n",
    "            if i!=j:\n",
    "                if i-solution[i] == j-solution[j] or i+solution[i] == j+solution[j]:\n",
    "                    xeques+=1\n",
    "    return xeques"
   ]
  },
  {
   "cell_type": "code",
   "execution_count": 222,
   "metadata": {},
   "outputs": [],
   "source": [
    "# loop principal do algoritmo evolutivo\n",
    "\n",
    "def evolutionaryAlgorithm(_mu, n, generations, crossover_rate, mutation_rate):\n",
    "    \n",
    "    pop = init_population(20, 8) #initialise\n",
    "    \n",
    "    i_geracoes = 0\n",
    "    medias = []\n",
    "    generations = 100\n",
    "\n",
    "    print(\"first population:\")\n",
    "    print (pop)\n",
    "    print(\"first evaluation:\")\n",
    "    fitness = evaluation(pop) #evaluate\n",
    "    print(fitness)\n",
    "\n",
    "\n",
    "    while i_geracoes <= generations:\n",
    "        subset_parents = selection(pop) #selecao dos individuos mais aptos para o cruzamento\n",
    "    #    print(\"2 individuos mais aptos com relacao aos 5 aleatorios escolhidos\")\n",
    "    #    print(subset_parents)\n",
    "        offspring = crossover(subset_parents, crossover_rate) #cruzamento dos pais\n",
    "    #    print(\"cruzamento deles crossover\")\n",
    "    #    print(offspring)\n",
    "        offspring_new = mutation(offspring,mutation_rate) #mutacao\n",
    "    #    print(\"mutacao\")\n",
    "    #    print(offspring_new)\n",
    "        pop = replacement(offspring_new, pop) #atualizacao da populacao\n",
    "    #    print(\"nova populacao\")\n",
    "    #    print(pop)\n",
    "        fitness = evaluation(pop) #fez uma nova avaliacao\n",
    "    #    print(\"novo evaluation\")\n",
    "    #    print(fitness)\n",
    "\n",
    "        medias.append(sum(fitness)/generations)\n",
    "\n",
    "        i_geracoes += 1\n",
    "        \n",
    "    \n",
    "    print(\"final population:\")\n",
    "    print(pop)\n",
    "    print(\"final evaluation: \")\n",
    "    print(fitness)\n",
    "\n",
    "    matplotlib.pyplot.xlabel('Interacoes')\n",
    "    matplotlib.pyplot.ylabel('Media de cheques em uma geracao')\n",
    "    matplotlib.pyplot.plot(medias)\n",
    "    \n",
    "    return pop"
   ]
  },
  {
   "cell_type": "code",
   "execution_count": 214,
   "metadata": {},
   "outputs": [],
   "source": [
    "def evaluation(pop): \n",
    "    #avalia a quantidade de xeques da geracao\n",
    "    pop_fitness = [fitness_nq(each_solution) for each_solution in pop]\n",
    "#    print(pop_fitness)\n",
    "    return pop_fitness"
   ]
  },
  {
   "cell_type": "code",
   "execution_count": 215,
   "metadata": {},
   "outputs": [],
   "source": [
    "def selection(pop):\n",
    "#retorna dentre 5 solucoes aleatorias as duas melhores.\n",
    "    _aux = 5\n",
    "    aleatorios = []\n",
    "\n",
    "    for i in range (_aux):\n",
    "        aleatorios.append(rd.choice(pop))\n",
    "\n",
    "    qnt_xeques = [fitness_nq(each_solution) for each_solution in aleatorios]\n",
    "\n",
    "    m1, m2 = float('inf'), float('inf')\n",
    "\n",
    "    for x in qnt_xeques:\n",
    "        if x <= m1:\n",
    "            m2 = m1\n",
    "            m1 = x\n",
    "            indice1 = qnt_xeques.index(m1)\n",
    "            indice2 = qnt_xeques.index(m2)\n",
    "\n",
    "    for x in qnt_xeques:\n",
    "        if x <= m2 and qnt_xeques.index(m1) != qnt_xeques.index(x):\n",
    "            m2 = x\n",
    "            indice2 = qnt_xeques.index(m2)\n",
    "            \n",
    "    subset_parents = []\n",
    "    subset_parents.append(aleatorios[indice1])\n",
    "    subset_parents.append(aleatorios[indice2])\n",
    "    \n",
    "#    print(\"aleatorios: \", aleatorios)\n",
    "#    print(\"indice 1 :\", indice1)\n",
    "#    print(\"indice 2 :\", indice2)\n",
    "\n",
    "    return subset_parents\n"
   ]
  },
  {
   "cell_type": "code",
   "execution_count": 216,
   "metadata": {},
   "outputs": [],
   "source": [
    "def crossover(subset_parents, crossover_rate):\n",
    "#retorna um subset (dois individuos) como resultado dos cruzamento dos pais.\n",
    "    lista1 = subset_parents[0]\n",
    "    lista2 = subset_parents[1]\n",
    "\n",
    "    resp1 = []\n",
    "    resp2 = []\n",
    "\n",
    "    resp1 = lista1[0:4] + lista2[4:8]\n",
    "    resp2 = lista2[0:4] + lista1[4:8]\n",
    "\n",
    "    offspring = (resp1, resp2)\n",
    "\n",
    "    return offspring"
   ]
  },
  {
   "cell_type": "code",
   "execution_count": 217,
   "metadata": {},
   "outputs": [],
   "source": [
    "def mutation(offspring,mutation_rate):\n",
    "#retorna um subset (dois individuos) como resultado da mutacao dos filhos.\n",
    "    lista1 = offspring[0]\n",
    "    lista2 = offspring[1]\n",
    "\n",
    "    lista1[rd.randint(0,7)] = rd.randint(0,7)\n",
    "    lista2[rd.randint(0,7)] = rd.randint(0,7)\n",
    "\n",
    "    offspring_new = (lista1, lista2)\n",
    "    \n",
    "    return offspring_new"
   ]
  },
  {
   "cell_type": "code",
   "execution_count": 218,
   "metadata": {},
   "outputs": [],
   "source": [
    "def replacement(offspring_new, pop):\n",
    "#Atualiza a lista de populacao substituindo os dois piores individuos pelos dois que fazem parte do subset offspring_new.\n",
    "    pop_fitness = [fitness_nq(each_solution) for each_solution in pop]\n",
    "    maiornmr = max(pop_fitness)\n",
    "    index1 = pop_fitness.index(maiornmr)\n",
    "#    print(\"maior numero e respectivo indice: \", maiornmr, index1)\n",
    "    for x in pop_fitness:\n",
    "        if x >= 0 and x < maiornmr:\n",
    "            segundomaior = x\n",
    "            index2 = pop_fitness.index(segundomaior)\n",
    "\n",
    "\n",
    "    pop[index1] = offspring_new[0]\n",
    "    pop[index2] = offspring_new[1]\n",
    "    \n",
    "    return pop"
   ]
  },
  {
   "cell_type": "code",
   "execution_count": 227,
   "metadata": {},
   "outputs": [
    {
     "name": "stdout",
     "output_type": "stream",
     "text": [
      "first population:\n",
      "[[2, 5, 0, 4, 3, 7, 1, 6], [2, 3, 1, 0, 4, 6, 7, 5], [4, 2, 1, 3, 7, 6, 0, 5], [3, 2, 4, 5, 6, 0, 1, 7], [5, 1, 2, 3, 7, 0, 6, 4], [4, 1, 2, 7, 3, 5, 0, 6], [5, 6, 0, 2, 3, 7, 4, 1], [0, 4, 3, 2, 5, 6, 1, 7], [1, 4, 6, 3, 2, 7, 0, 5], [6, 4, 1, 3, 5, 7, 2, 0], [5, 7, 4, 3, 6, 2, 1, 0], [1, 5, 2, 0, 6, 3, 7, 4], [2, 7, 1, 3, 5, 0, 4, 6], [5, 4, 7, 0, 1, 6, 3, 2], [6, 4, 2, 5, 1, 3, 7, 0], [6, 1, 2, 7, 5, 3, 4, 0], [5, 4, 0, 6, 7, 3, 1, 2], [4, 2, 7, 0, 6, 3, 5, 1], [7, 2, 5, 1, 3, 4, 6, 0], [3, 7, 4, 1, 0, 5, 6, 2]]\n",
      "first evaluation:\n",
      "[12, 6, 8, 10, 16, 14, 10, 14, 10, 2, 10, 4, 2, 20, 4, 6, 14, 4, 14, 4]\n",
      "final population:\n",
      "[[2, 6, 6, 0, 7, 0, 4, 6], [2, 6, 6, 0, 7, 1, 4, 6], [2, 6, 6, 0, 5, 0, 4, 6], [2, 6, 4, 0, 5, 0, 4, 6], [2, 6, 6, 0, 5, 1, 4, 4], [1, 6, 6, 0, 5, 1, 4, 6], [2, 1, 6, 0, 7, 1, 4, 6], [2, 0, 6, 0, 5, 1, 4, 6], [7, 6, 6, 0, 5, 0, 4, 6], [2, 6, 6, 0, 7, 1, 4, 6], [4, 6, 6, 0, 7, 1, 4, 6], [2, 6, 6, 0, 7, 4, 4, 6], [2, 6, 6, 0, 7, 4, 4, 6], [2, 6, 6, 0, 7, 4, 0, 6], [2, 6, 6, 0, 7, 0, 4, 3], [2, 0, 6, 0, 5, 1, 7, 6], [2, 6, 7, 0, 5, 0, 4, 6], [2, 7, 1, 3, 4, 0, 4, 0], [2, 7, 1, 3, 3, 0, 4, 0], [2, 6, 6, 5, 5, 0, 4, 6]]\n",
      "final evaluation: \n",
      "[0, 0, 0, 2, 2, 2, 2, 2, 2, 0, 2, 2, 2, 2, 2, 6, 4, 4, 4, 4]\n"
     ]
    },
    {
     "data": {
      "image/png": "[encoded data removed]",
      "text/plain": [
       "<Figure size 432x288 with 1 Axes>"
      ]
     },
     "metadata": {
      "needs_background": "light"
     },
     "output_type": "display_data"
    }
   ],
   "source": [
    "#    evolutionaryAlgorithm(_mu, n, generations, crossover_rate, mutation_rate)\n",
    "\n",
    "medias = evolutionaryAlgorithm(20, 8, 20, 1, 0.8)"
   ]
  },
  {
   "cell_type": "code",
   "execution_count": null,
   "metadata": {},
   "outputs": [],
   "source": []
  },
  {
   "cell_type": "code",
   "execution_count": null,
   "metadata": {},
   "outputs": [],
   "source": []
  }
 ],
 "metadata": {
  "kernelspec": {
   "display_name": "Python 3",
   "language": "python",
   "name": "python3"
  },
  "language_info": {
   "codemirror_mode": {
    "name": "ipython",
    "version": 3
   },
   "file_extension": ".py",
   "mimetype": "text/x-python",
   "name": "python",
   "nbconvert_exporter": "python",
   "pygments_lexer": "ipython3",
   "version": "3.8.8"
  }
 },
 "nbformat": 4,
 "nbformat_minor": 4
}
